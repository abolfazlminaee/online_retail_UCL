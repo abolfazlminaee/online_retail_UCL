{
 "cells": [
  {
   "cell_type": "code",
   "execution_count": 2,
   "id": "a9d88dfa",
   "metadata": {},
   "outputs": [],
   "source": [
    "import numpy as np\n",
    "import pandas as pd\n",
    "from datetime import datetime, timedelta\n",
    "import matplotlib.pyplot as plt\n",
    "import matplotlib.colors as colors\n",
    "import seaborn as sns"
   ]
  },
  {
   "cell_type": "markdown",
   "id": "688f217a",
   "metadata": {},
   "source": [
    "data processing"
   ]
  },
  {
   "cell_type": "code",
   "execution_count": 4,
   "id": "fe09b9e3",
   "metadata": {},
   "outputs": [
    {
     "data": {
      "text/html": [
       "<div>\n",
       "<style scoped>\n",
       "    .dataframe tbody tr th:only-of-type {\n",
       "        vertical-align: middle;\n",
       "    }\n",
       "\n",
       "    .dataframe tbody tr th {\n",
       "        vertical-align: top;\n",
       "    }\n",
       "\n",
       "    .dataframe thead th {\n",
       "        text-align: right;\n",
       "    }\n",
       "</style>\n",
       "<table border=\"1\" class=\"dataframe\">\n",
       "  <thead>\n",
       "    <tr style=\"text-align: right;\">\n",
       "      <th></th>\n",
       "      <th>InvoiceNo</th>\n",
       "      <th>StockCode</th>\n",
       "      <th>Description</th>\n",
       "      <th>Quantity</th>\n",
       "      <th>InvoiceDate</th>\n",
       "      <th>UnitPrice</th>\n",
       "      <th>CustomerID</th>\n",
       "      <th>Country</th>\n",
       "    </tr>\n",
       "  </thead>\n",
       "  <tbody>\n",
       "    <tr>\n",
       "      <th>0</th>\n",
       "      <td>536365</td>\n",
       "      <td>85123A</td>\n",
       "      <td>WHITE HANGING HEART T-LIGHT HOLDER</td>\n",
       "      <td>6</td>\n",
       "      <td>2010-12-01 08:26:00</td>\n",
       "      <td>2.55</td>\n",
       "      <td>17850.0</td>\n",
       "      <td>United Kingdom</td>\n",
       "    </tr>\n",
       "    <tr>\n",
       "      <th>1</th>\n",
       "      <td>536365</td>\n",
       "      <td>71053</td>\n",
       "      <td>WHITE METAL LANTERN</td>\n",
       "      <td>6</td>\n",
       "      <td>2010-12-01 08:26:00</td>\n",
       "      <td>3.39</td>\n",
       "      <td>17850.0</td>\n",
       "      <td>United Kingdom</td>\n",
       "    </tr>\n",
       "    <tr>\n",
       "      <th>2</th>\n",
       "      <td>536365</td>\n",
       "      <td>84406B</td>\n",
       "      <td>CREAM CUPID HEARTS COAT HANGER</td>\n",
       "      <td>8</td>\n",
       "      <td>2010-12-01 08:26:00</td>\n",
       "      <td>2.75</td>\n",
       "      <td>17850.0</td>\n",
       "      <td>United Kingdom</td>\n",
       "    </tr>\n",
       "    <tr>\n",
       "      <th>3</th>\n",
       "      <td>536365</td>\n",
       "      <td>84029G</td>\n",
       "      <td>KNITTED UNION FLAG HOT WATER BOTTLE</td>\n",
       "      <td>6</td>\n",
       "      <td>2010-12-01 08:26:00</td>\n",
       "      <td>3.39</td>\n",
       "      <td>17850.0</td>\n",
       "      <td>United Kingdom</td>\n",
       "    </tr>\n",
       "    <tr>\n",
       "      <th>4</th>\n",
       "      <td>536365</td>\n",
       "      <td>84029E</td>\n",
       "      <td>RED WOOLLY HOTTIE WHITE HEART.</td>\n",
       "      <td>6</td>\n",
       "      <td>2010-12-01 08:26:00</td>\n",
       "      <td>3.39</td>\n",
       "      <td>17850.0</td>\n",
       "      <td>United Kingdom</td>\n",
       "    </tr>\n",
       "  </tbody>\n",
       "</table>\n",
       "</div>"
      ],
      "text/plain": [
       "  InvoiceNo StockCode                          Description  Quantity  \\\n",
       "0    536365    85123A   WHITE HANGING HEART T-LIGHT HOLDER         6   \n",
       "1    536365     71053                  WHITE METAL LANTERN         6   \n",
       "2    536365    84406B       CREAM CUPID HEARTS COAT HANGER         8   \n",
       "3    536365    84029G  KNITTED UNION FLAG HOT WATER BOTTLE         6   \n",
       "4    536365    84029E       RED WOOLLY HOTTIE WHITE HEART.         6   \n",
       "\n",
       "          InvoiceDate  UnitPrice  CustomerID         Country  \n",
       "0 2010-12-01 08:26:00       2.55     17850.0  United Kingdom  \n",
       "1 2010-12-01 08:26:00       3.39     17850.0  United Kingdom  \n",
       "2 2010-12-01 08:26:00       2.75     17850.0  United Kingdom  \n",
       "3 2010-12-01 08:26:00       3.39     17850.0  United Kingdom  \n",
       "4 2010-12-01 08:26:00       3.39     17850.0  United Kingdom  "
      ]
     },
     "execution_count": 4,
     "metadata": {},
     "output_type": "execute_result"
    }
   ],
   "source": [
    "retail = pd.read_excel('Online Retail.xlsx')\n",
    "retail.head()"
   ]
  },
  {
   "cell_type": "code",
   "execution_count": 5,
   "id": "5004313e",
   "metadata": {},
   "outputs": [
    {
     "name": "stdout",
     "output_type": "stream",
     "text": [
      "Number of missing values:  136534\n",
      "Percent of missing values per feature: \n"
     ]
    },
    {
     "data": {
      "text/plain": [
       "InvoiceNo       0.000000\n",
       "StockCode       0.000000\n",
       "Description     0.268311\n",
       "Quantity        0.000000\n",
       "InvoiceDate     0.000000\n",
       "UnitPrice       0.000000\n",
       "CustomerID     24.926694\n",
       "Country         0.000000\n",
       "dtype: float64"
      ]
     },
     "execution_count": 5,
     "metadata": {},
     "output_type": "execute_result"
    }
   ],
   "source": [
    "print('Number of missing values: ', retail.isnull().values.sum())\n",
    "print('Percent of missing values per feature: ') \n",
    "retail.isnull().sum() * 100 / len(retail)"
   ]
  },
  {
   "cell_type": "code",
   "execution_count": 6,
   "id": "e250c618",
   "metadata": {},
   "outputs": [],
   "source": [
    "retail.dropna(inplace=True)"
   ]
  },
  {
   "cell_type": "code",
   "execution_count": 7,
   "id": "16f8aa6d",
   "metadata": {},
   "outputs": [
    {
     "data": {
      "text/html": [
       "<div>\n",
       "<style scoped>\n",
       "    .dataframe tbody tr th:only-of-type {\n",
       "        vertical-align: middle;\n",
       "    }\n",
       "\n",
       "    .dataframe tbody tr th {\n",
       "        vertical-align: top;\n",
       "    }\n",
       "\n",
       "    .dataframe thead th {\n",
       "        text-align: right;\n",
       "    }\n",
       "</style>\n",
       "<table border=\"1\" class=\"dataframe\">\n",
       "  <thead>\n",
       "    <tr style=\"text-align: right;\">\n",
       "      <th></th>\n",
       "      <th>InvoiceNo</th>\n",
       "      <th>StockCode</th>\n",
       "      <th>Description</th>\n",
       "      <th>Quantity</th>\n",
       "      <th>InvoiceDate</th>\n",
       "      <th>UnitPrice</th>\n",
       "      <th>CustomerID</th>\n",
       "      <th>Country</th>\n",
       "    </tr>\n",
       "  </thead>\n",
       "  <tbody>\n",
       "    <tr>\n",
       "      <th>0</th>\n",
       "      <td>536365</td>\n",
       "      <td>85123A</td>\n",
       "      <td>WHITE HANGING HEART T-LIGHT HOLDER</td>\n",
       "      <td>6</td>\n",
       "      <td>2010-12-01 08:26:00</td>\n",
       "      <td>2.55</td>\n",
       "      <td>17850.0</td>\n",
       "      <td>United Kingdom</td>\n",
       "    </tr>\n",
       "    <tr>\n",
       "      <th>1</th>\n",
       "      <td>536365</td>\n",
       "      <td>71053</td>\n",
       "      <td>WHITE METAL LANTERN</td>\n",
       "      <td>6</td>\n",
       "      <td>2010-12-01 08:26:00</td>\n",
       "      <td>3.39</td>\n",
       "      <td>17850.0</td>\n",
       "      <td>United Kingdom</td>\n",
       "    </tr>\n",
       "    <tr>\n",
       "      <th>2</th>\n",
       "      <td>536365</td>\n",
       "      <td>84406B</td>\n",
       "      <td>CREAM CUPID HEARTS COAT HANGER</td>\n",
       "      <td>8</td>\n",
       "      <td>2010-12-01 08:26:00</td>\n",
       "      <td>2.75</td>\n",
       "      <td>17850.0</td>\n",
       "      <td>United Kingdom</td>\n",
       "    </tr>\n",
       "    <tr>\n",
       "      <th>3</th>\n",
       "      <td>536365</td>\n",
       "      <td>84029G</td>\n",
       "      <td>KNITTED UNION FLAG HOT WATER BOTTLE</td>\n",
       "      <td>6</td>\n",
       "      <td>2010-12-01 08:26:00</td>\n",
       "      <td>3.39</td>\n",
       "      <td>17850.0</td>\n",
       "      <td>United Kingdom</td>\n",
       "    </tr>\n",
       "    <tr>\n",
       "      <th>4</th>\n",
       "      <td>536365</td>\n",
       "      <td>84029E</td>\n",
       "      <td>RED WOOLLY HOTTIE WHITE HEART.</td>\n",
       "      <td>6</td>\n",
       "      <td>2010-12-01 08:26:00</td>\n",
       "      <td>3.39</td>\n",
       "      <td>17850.0</td>\n",
       "      <td>United Kingdom</td>\n",
       "    </tr>\n",
       "  </tbody>\n",
       "</table>\n",
       "</div>"
      ],
      "text/plain": [
       "  InvoiceNo StockCode                          Description  Quantity  \\\n",
       "0    536365    85123A   WHITE HANGING HEART T-LIGHT HOLDER         6   \n",
       "1    536365     71053                  WHITE METAL LANTERN         6   \n",
       "2    536365    84406B       CREAM CUPID HEARTS COAT HANGER         8   \n",
       "3    536365    84029G  KNITTED UNION FLAG HOT WATER BOTTLE         6   \n",
       "4    536365    84029E       RED WOOLLY HOTTIE WHITE HEART.         6   \n",
       "\n",
       "          InvoiceDate  UnitPrice  CustomerID         Country  \n",
       "0 2010-12-01 08:26:00       2.55     17850.0  United Kingdom  \n",
       "1 2010-12-01 08:26:00       3.39     17850.0  United Kingdom  \n",
       "2 2010-12-01 08:26:00       2.75     17850.0  United Kingdom  \n",
       "3 2010-12-01 08:26:00       3.39     17850.0  United Kingdom  \n",
       "4 2010-12-01 08:26:00       3.39     17850.0  United Kingdom  "
      ]
     },
     "execution_count": 7,
     "metadata": {},
     "output_type": "execute_result"
    }
   ],
   "source": [
    "retail.reset_index(drop=True, inplace=True)\n",
    "retail.head()"
   ]
  },
  {
   "cell_type": "code",
   "execution_count": 8,
   "id": "34abc444",
   "metadata": {},
   "outputs": [
    {
     "name": "stdout",
     "output_type": "stream",
     "text": [
      "Number of missing values:  0\n",
      "Data lenght:  406829\n"
     ]
    }
   ],
   "source": [
    "print('Number of missing values: ', retail.isnull().values.sum())\n",
    "print('Data lenght: ', len(retail))"
   ]
  },
  {
   "cell_type": "code",
   "execution_count": 9,
   "id": "11762344",
   "metadata": {},
   "outputs": [
    {
     "name": "stdout",
     "output_type": "stream",
     "text": [
      "5225\n"
     ]
    }
   ],
   "source": [
    "duplicates_retail = retail.duplicated()\n",
    "print(duplicates_retail.sum())"
   ]
  },
  {
   "cell_type": "code",
   "execution_count": 10,
   "id": "67eeb392",
   "metadata": {},
   "outputs": [
    {
     "name": "stdout",
     "output_type": "stream",
     "text": [
      "InvoiceNo                           536409\n",
      "StockCode                            21866\n",
      "Description    UNION JACK FLAG LUGGAGE TAG\n",
      "Quantity                                 1\n",
      "InvoiceDate            2010-12-01 11:45:00\n",
      "UnitPrice                             1.25\n",
      "CustomerID                         17908.0\n",
      "Country                     United Kingdom\n",
      "Name: 517, dtype: object\n"
     ]
    }
   ],
   "source": [
    "duplicated_row1 = retail[duplicates_retail == True].iloc[0]\n",
    "print(duplicated_row1)"
   ]
  },
  {
   "cell_type": "code",
   "execution_count": 11,
   "id": "fdfd509d",
   "metadata": {},
   "outputs": [
    {
     "name": "stdout",
     "output_type": "stream",
     "text": [
      "InvoiceNo                             536409\n",
      "StockCode                              22866\n",
      "Description    HAND WARMER SCOTTY DOG DESIGN\n",
      "Quantity                                   1\n",
      "InvoiceDate              2010-12-01 11:45:00\n",
      "UnitPrice                                2.1\n",
      "CustomerID                           17908.0\n",
      "Country                       United Kingdom\n",
      "Name: 527, dtype: object\n"
     ]
    }
   ],
   "source": [
    "duplicated_row2 = retail[duplicates_retail == True].iloc[1]\n",
    "print(duplicated_row2)"
   ]
  },
  {
   "cell_type": "code",
   "execution_count": 12,
   "id": "6c176bee",
   "metadata": {},
   "outputs": [
    {
     "data": {
      "text/html": [
       "<div>\n",
       "<style scoped>\n",
       "    .dataframe tbody tr th:only-of-type {\n",
       "        vertical-align: middle;\n",
       "    }\n",
       "\n",
       "    .dataframe tbody tr th {\n",
       "        vertical-align: top;\n",
       "    }\n",
       "\n",
       "    .dataframe thead th {\n",
       "        text-align: right;\n",
       "    }\n",
       "</style>\n",
       "<table border=\"1\" class=\"dataframe\">\n",
       "  <thead>\n",
       "    <tr style=\"text-align: right;\">\n",
       "      <th></th>\n",
       "      <th>Quantity</th>\n",
       "      <th>InvoiceDate</th>\n",
       "      <th>UnitPrice</th>\n",
       "      <th>CustomerID</th>\n",
       "    </tr>\n",
       "  </thead>\n",
       "  <tbody>\n",
       "    <tr>\n",
       "      <th>count</th>\n",
       "      <td>406829.000000</td>\n",
       "      <td>406829</td>\n",
       "      <td>406829.000000</td>\n",
       "      <td>406829.000000</td>\n",
       "    </tr>\n",
       "    <tr>\n",
       "      <th>mean</th>\n",
       "      <td>12.061303</td>\n",
       "      <td>2011-07-10 16:30:57.879207424</td>\n",
       "      <td>3.460471</td>\n",
       "      <td>15287.690570</td>\n",
       "    </tr>\n",
       "    <tr>\n",
       "      <th>min</th>\n",
       "      <td>-80995.000000</td>\n",
       "      <td>2010-12-01 08:26:00</td>\n",
       "      <td>0.000000</td>\n",
       "      <td>12346.000000</td>\n",
       "    </tr>\n",
       "    <tr>\n",
       "      <th>25%</th>\n",
       "      <td>2.000000</td>\n",
       "      <td>2011-04-06 15:02:00</td>\n",
       "      <td>1.250000</td>\n",
       "      <td>13953.000000</td>\n",
       "    </tr>\n",
       "    <tr>\n",
       "      <th>50%</th>\n",
       "      <td>5.000000</td>\n",
       "      <td>2011-07-31 11:48:00</td>\n",
       "      <td>1.950000</td>\n",
       "      <td>15152.000000</td>\n",
       "    </tr>\n",
       "    <tr>\n",
       "      <th>75%</th>\n",
       "      <td>12.000000</td>\n",
       "      <td>2011-10-20 13:06:00</td>\n",
       "      <td>3.750000</td>\n",
       "      <td>16791.000000</td>\n",
       "    </tr>\n",
       "    <tr>\n",
       "      <th>max</th>\n",
       "      <td>80995.000000</td>\n",
       "      <td>2011-12-09 12:50:00</td>\n",
       "      <td>38970.000000</td>\n",
       "      <td>18287.000000</td>\n",
       "    </tr>\n",
       "    <tr>\n",
       "      <th>std</th>\n",
       "      <td>248.693370</td>\n",
       "      <td>NaN</td>\n",
       "      <td>69.315162</td>\n",
       "      <td>1713.600303</td>\n",
       "    </tr>\n",
       "  </tbody>\n",
       "</table>\n",
       "</div>"
      ],
      "text/plain": [
       "            Quantity                    InvoiceDate      UnitPrice  \\\n",
       "count  406829.000000                         406829  406829.000000   \n",
       "mean       12.061303  2011-07-10 16:30:57.879207424       3.460471   \n",
       "min    -80995.000000            2010-12-01 08:26:00       0.000000   \n",
       "25%         2.000000            2011-04-06 15:02:00       1.250000   \n",
       "50%         5.000000            2011-07-31 11:48:00       1.950000   \n",
       "75%        12.000000            2011-10-20 13:06:00       3.750000   \n",
       "max     80995.000000            2011-12-09 12:50:00   38970.000000   \n",
       "std       248.693370                            NaN      69.315162   \n",
       "\n",
       "          CustomerID  \n",
       "count  406829.000000  \n",
       "mean    15287.690570  \n",
       "min     12346.000000  \n",
       "25%     13953.000000  \n",
       "50%     15152.000000  \n",
       "75%     16791.000000  \n",
       "max     18287.000000  \n",
       "std      1713.600303  "
      ]
     },
     "execution_count": 12,
     "metadata": {},
     "output_type": "execute_result"
    }
   ],
   "source": [
    "retail.describe()"
   ]
  },
  {
   "cell_type": "code",
   "execution_count": 13,
   "id": "eca3104e",
   "metadata": {},
   "outputs": [
    {
     "name": "stdout",
     "output_type": "stream",
     "text": [
      "Sum of value manual:  465\n",
      "Sum of value discount:  77\n",
      "Sum of value postage:  1196\n",
      "Sum of value cruk commission:  16\n",
      "Sum of value dotcom postage:  16\n"
     ]
    }
   ],
   "source": [
    "count_manual = (retail['Description'].eq('Manual')).sum()\n",
    "count_disc = (retail['Description'].eq('Discount')).sum()\n",
    "count_post = (retail['Description'].eq('POSTAGE')).sum()\n",
    "count_cruk = (retail['Description'].eq('CRUK Commission')).sum()\n",
    "count_dot = (retail['Description'].eq('DOTCOM POSTAGE')).sum()\n",
    "\n",
    "print('Sum of value manual: ', count_manual)\n",
    "print('Sum of value discount: ', count_disc)\n",
    "print('Sum of value postage: ', count_post)\n",
    "print('Sum of value cruk commission: ', count_cruk)\n",
    "print('Sum of value dotcom postage: ', count_dot)"
   ]
  },
  {
   "cell_type": "code",
   "execution_count": 14,
   "id": "e640c132",
   "metadata": {},
   "outputs": [
    {
     "name": "stdout",
     "output_type": "stream",
     "text": [
      "Count of values with length less than 5 in StockCode: 1908\n"
     ]
    }
   ],
   "source": [
    "code_less_5_filter = retail['StockCode'].str.len() < 5\n",
    "code_less_5 = retail[code_less_5_filter]\n",
    "count_stockcode_less_5 = code_less_5.shape[0]\n",
    "\n",
    "print(\"Count of values with length less than 5 in StockCode: {}\".format(count_stockcode_less_5))"
   ]
  },
  {
   "cell_type": "code",
   "execution_count": 15,
   "id": "748c026b",
   "metadata": {},
   "outputs": [
    {
     "data": {
      "text/plain": [
       "StockCode\n",
       "POST    1196\n",
       "M        465\n",
       "C2       134\n",
       "D         77\n",
       "CRUK      16\n",
       "DOT       16\n",
       "PADS       4\n",
       "Name: count, dtype: int64"
      ]
     },
     "execution_count": 15,
     "metadata": {},
     "output_type": "execute_result"
    }
   ],
   "source": [
    "code_less_5.value_counts('StockCode')"
   ]
  },
  {
   "cell_type": "code",
   "execution_count": 16,
   "id": "8ae5d6a5",
   "metadata": {},
   "outputs": [],
   "source": [
    "unwanted_stockcodes = ['POST', 'M', 'C2', 'D', 'CRUK', 'DOT', 'PADS']\n",
    "mask = ~retail['StockCode'].isin(unwanted_stockcodes)\n",
    "\n",
    "retail = retail[mask]"
   ]
  },
  {
   "cell_type": "code",
   "execution_count": 17,
   "id": "70b2e703",
   "metadata": {},
   "outputs": [
    {
     "name": "stdout",
     "output_type": "stream",
     "text": [
      "Sum of value manual:  0\n",
      "Sum of value discount:  0\n",
      "Sum of value postage:  0\n",
      "Sum of value cruk commission:  0\n",
      "Sum of value dotcom postage:  0\n"
     ]
    }
   ],
   "source": [
    "count_manual = (retail['Description'].eq('Manual')).sum()\n",
    "count_disc = (retail['Description'].eq('Discount')).sum()\n",
    "count_post = (retail['Description'].eq('POSTAGE')).sum()\n",
    "count_cruk = (retail['Description'].eq('CRUK Commission')).sum()\n",
    "count_dot = (retail['Description'].eq('DOTCOM POSTAGE')).sum()\n",
    "\n",
    "print('Sum of value manual: ', count_manual)\n",
    "print('Sum of value discount: ', count_disc)\n",
    "print('Sum of value postage: ', count_post)\n",
    "print('Sum of value cruk commission: ', count_cruk)\n",
    "print('Sum of value dotcom postage: ', count_dot)"
   ]
  },
  {
   "cell_type": "code",
   "execution_count": 18,
   "id": "a27be646",
   "metadata": {},
   "outputs": [],
   "source": [
    "retail['InvoiceDate'] = pd.to_datetime(retail['InvoiceDate'])"
   ]
  },
  {
   "cell_type": "markdown",
   "id": "2dd7b5d5",
   "metadata": {},
   "source": [
    "##  FSN\n",
    "Fast-Moving Inventory – These SKUs sell rapidly and do not stay in stock for long periods. They are replenished frequently and typically have an inventory turnover ratio of at least 3. They generally account for less than 20% of the total inventory, reflecting high sales velocity.\n",
    "\n",
    "Slow-Moving Inventory – These SKUs move through the supply chain more gradually and are replenished less often. Their inventory turnover ratio usually ranges between 1 and 3. This category often includes surplus stock and items with moderate sales activity, representing about 35% of the total inventory.\n",
    "\n",
    "Non-Moving Inventory – Items in this category rarely move or may not have moved at all. They have an inventory turnover ratio below 1 and can constitute as much as 60-65% of the overall inventory. This category often includes deadstock or obsolete items that are candidates for disposal or liquidation."
   ]
  },
  {
   "cell_type": "code",
   "execution_count": 19,
   "id": "38737d81",
   "metadata": {},
   "outputs": [
    {
     "name": "stdout",
     "output_type": "stream",
     "text": [
      "         StockCode FSN_Segment\n",
      "0            10002        Fast\n",
      "1            10080        Slow\n",
      "2            10120        Slow\n",
      "3            10125        Slow\n",
      "4            10133        Fast\n",
      "...            ...         ...\n",
      "3672        90214V         Non\n",
      "3673        90214W         Non\n",
      "3674        90214Y         Non\n",
      "3675        90214Z         Non\n",
      "3676  BANK CHARGES         Non\n",
      "\n",
      "[3677 rows x 2 columns]\n"
     ]
    }
   ],
   "source": [
    "transactions = retail.groupby('StockCode').size().reset_index(name='Frequency')\n",
    "sales = retail.groupby('StockCode').agg({'Quantity':'sum', 'UnitPrice':'mean'}).reset_index()\n",
    "sales['TotalSales'] = sales['Quantity'] * sales['UnitPrice']\n",
    "last_purchase = retail.groupby('StockCode')['InvoiceDate'].max().reset_index()\n",
    "last_purchase['RecencyDays'] = (retail['InvoiceDate'].max() - last_purchase['InvoiceDate']).dt.days\n",
    "\n",
    "product_metrics = transactions.merge(sales, on='StockCode').merge(last_purchase[['StockCode','RecencyDays']], on='StockCode')\n",
    "for col in ['Frequency', 'TotalSales', 'RecencyDays']:\n",
    "    product_metrics[col + '_score'] = pd.qcut(product_metrics[col], q=3, labels=[1, 2, 3])\n",
    "\n",
    "product_metrics['Frequency_score'] = product_metrics['Frequency_score'].astype(int)\n",
    "product_metrics['TotalSales_score'] = product_metrics['TotalSales_score'].astype(int)\n",
    "product_metrics['RecencyDays_score'] = product_metrics['RecencyDays_score'].astype(int)\n",
    "\n",
    "product_metrics['TotalScore'] = (\n",
    "    product_metrics['Frequency_score'] + \n",
    "    product_metrics['TotalSales_score'] + \n",
    "    product_metrics['RecencyDays_score']\n",
    ")\n",
    "\n",
    "bins = [0, 4, 6, 9]\n",
    "labels = ['Non', 'Slow', 'Fast']\n",
    "product_metrics['FSN_Segment'] = pd.cut(product_metrics['TotalScore'], bins=bins, labels=labels, include_lowest=True)\n",
    "print(product_metrics[['StockCode', 'FSN_Segment']])"
   ]
  },
  {
   "cell_type": "code",
   "execution_count": 20,
   "id": "0311430b",
   "metadata": {},
   "outputs": [
    {
     "data": {
      "text/html": [
       "<div>\n",
       "<style scoped>\n",
       "    .dataframe tbody tr th:only-of-type {\n",
       "        vertical-align: middle;\n",
       "    }\n",
       "\n",
       "    .dataframe tbody tr th {\n",
       "        vertical-align: top;\n",
       "    }\n",
       "\n",
       "    .dataframe thead th {\n",
       "        text-align: right;\n",
       "    }\n",
       "</style>\n",
       "<table border=\"1\" class=\"dataframe\">\n",
       "  <thead>\n",
       "    <tr style=\"text-align: right;\">\n",
       "      <th></th>\n",
       "      <th>InvoiceNo</th>\n",
       "      <th>StockCode</th>\n",
       "      <th>Description</th>\n",
       "      <th>Quantity</th>\n",
       "      <th>InvoiceDate</th>\n",
       "      <th>UnitPrice</th>\n",
       "      <th>CustomerID</th>\n",
       "      <th>Country</th>\n",
       "      <th>FSN</th>\n",
       "    </tr>\n",
       "  </thead>\n",
       "  <tbody>\n",
       "    <tr>\n",
       "      <th>0</th>\n",
       "      <td>536365</td>\n",
       "      <td>85123A</td>\n",
       "      <td>WHITE HANGING HEART T-LIGHT HOLDER</td>\n",
       "      <td>6</td>\n",
       "      <td>2010-12-01 08:26:00</td>\n",
       "      <td>2.55</td>\n",
       "      <td>17850.0</td>\n",
       "      <td>United Kingdom</td>\n",
       "      <td>Fast</td>\n",
       "    </tr>\n",
       "    <tr>\n",
       "      <th>1</th>\n",
       "      <td>536365</td>\n",
       "      <td>71053</td>\n",
       "      <td>WHITE METAL LANTERN</td>\n",
       "      <td>6</td>\n",
       "      <td>2010-12-01 08:26:00</td>\n",
       "      <td>3.39</td>\n",
       "      <td>17850.0</td>\n",
       "      <td>United Kingdom</td>\n",
       "      <td>Fast</td>\n",
       "    </tr>\n",
       "    <tr>\n",
       "      <th>2</th>\n",
       "      <td>536365</td>\n",
       "      <td>84406B</td>\n",
       "      <td>CREAM CUPID HEARTS COAT HANGER</td>\n",
       "      <td>8</td>\n",
       "      <td>2010-12-01 08:26:00</td>\n",
       "      <td>2.75</td>\n",
       "      <td>17850.0</td>\n",
       "      <td>United Kingdom</td>\n",
       "      <td>Fast</td>\n",
       "    </tr>\n",
       "    <tr>\n",
       "      <th>3</th>\n",
       "      <td>536365</td>\n",
       "      <td>84029G</td>\n",
       "      <td>KNITTED UNION FLAG HOT WATER BOTTLE</td>\n",
       "      <td>6</td>\n",
       "      <td>2010-12-01 08:26:00</td>\n",
       "      <td>3.39</td>\n",
       "      <td>17850.0</td>\n",
       "      <td>United Kingdom</td>\n",
       "      <td>Fast</td>\n",
       "    </tr>\n",
       "    <tr>\n",
       "      <th>4</th>\n",
       "      <td>536365</td>\n",
       "      <td>84029E</td>\n",
       "      <td>RED WOOLLY HOTTIE WHITE HEART.</td>\n",
       "      <td>6</td>\n",
       "      <td>2010-12-01 08:26:00</td>\n",
       "      <td>3.39</td>\n",
       "      <td>17850.0</td>\n",
       "      <td>United Kingdom</td>\n",
       "      <td>Fast</td>\n",
       "    </tr>\n",
       "    <tr>\n",
       "      <th>...</th>\n",
       "      <td>...</td>\n",
       "      <td>...</td>\n",
       "      <td>...</td>\n",
       "      <td>...</td>\n",
       "      <td>...</td>\n",
       "      <td>...</td>\n",
       "      <td>...</td>\n",
       "      <td>...</td>\n",
       "      <td>...</td>\n",
       "    </tr>\n",
       "    <tr>\n",
       "      <th>404916</th>\n",
       "      <td>581587</td>\n",
       "      <td>22613</td>\n",
       "      <td>PACK OF 20 SPACEBOY NAPKINS</td>\n",
       "      <td>12</td>\n",
       "      <td>2011-12-09 12:50:00</td>\n",
       "      <td>0.85</td>\n",
       "      <td>12680.0</td>\n",
       "      <td>France</td>\n",
       "      <td>Slow</td>\n",
       "    </tr>\n",
       "    <tr>\n",
       "      <th>404917</th>\n",
       "      <td>581587</td>\n",
       "      <td>22899</td>\n",
       "      <td>CHILDREN'S APRON DOLLY GIRL</td>\n",
       "      <td>6</td>\n",
       "      <td>2011-12-09 12:50:00</td>\n",
       "      <td>2.10</td>\n",
       "      <td>12680.0</td>\n",
       "      <td>France</td>\n",
       "      <td>Fast</td>\n",
       "    </tr>\n",
       "    <tr>\n",
       "      <th>404918</th>\n",
       "      <td>581587</td>\n",
       "      <td>23254</td>\n",
       "      <td>CHILDRENS CUTLERY DOLLY GIRL</td>\n",
       "      <td>4</td>\n",
       "      <td>2011-12-09 12:50:00</td>\n",
       "      <td>4.15</td>\n",
       "      <td>12680.0</td>\n",
       "      <td>France</td>\n",
       "      <td>Fast</td>\n",
       "    </tr>\n",
       "    <tr>\n",
       "      <th>404919</th>\n",
       "      <td>581587</td>\n",
       "      <td>23255</td>\n",
       "      <td>CHILDRENS CUTLERY CIRCUS PARADE</td>\n",
       "      <td>4</td>\n",
       "      <td>2011-12-09 12:50:00</td>\n",
       "      <td>4.15</td>\n",
       "      <td>12680.0</td>\n",
       "      <td>France</td>\n",
       "      <td>Fast</td>\n",
       "    </tr>\n",
       "    <tr>\n",
       "      <th>404920</th>\n",
       "      <td>581587</td>\n",
       "      <td>22138</td>\n",
       "      <td>BAKING SET 9 PIECE RETROSPOT</td>\n",
       "      <td>3</td>\n",
       "      <td>2011-12-09 12:50:00</td>\n",
       "      <td>4.95</td>\n",
       "      <td>12680.0</td>\n",
       "      <td>France</td>\n",
       "      <td>Fast</td>\n",
       "    </tr>\n",
       "  </tbody>\n",
       "</table>\n",
       "<p>404921 rows × 9 columns</p>\n",
       "</div>"
      ],
      "text/plain": [
       "       InvoiceNo StockCode                          Description  Quantity  \\\n",
       "0         536365    85123A   WHITE HANGING HEART T-LIGHT HOLDER         6   \n",
       "1         536365     71053                  WHITE METAL LANTERN         6   \n",
       "2         536365    84406B       CREAM CUPID HEARTS COAT HANGER         8   \n",
       "3         536365    84029G  KNITTED UNION FLAG HOT WATER BOTTLE         6   \n",
       "4         536365    84029E       RED WOOLLY HOTTIE WHITE HEART.         6   \n",
       "...          ...       ...                                  ...       ...   \n",
       "404916    581587     22613          PACK OF 20 SPACEBOY NAPKINS        12   \n",
       "404917    581587     22899         CHILDREN'S APRON DOLLY GIRL          6   \n",
       "404918    581587     23254        CHILDRENS CUTLERY DOLLY GIRL          4   \n",
       "404919    581587     23255      CHILDRENS CUTLERY CIRCUS PARADE         4   \n",
       "404920    581587     22138        BAKING SET 9 PIECE RETROSPOT          3   \n",
       "\n",
       "               InvoiceDate  UnitPrice  CustomerID         Country   FSN  \n",
       "0      2010-12-01 08:26:00       2.55     17850.0  United Kingdom  Fast  \n",
       "1      2010-12-01 08:26:00       3.39     17850.0  United Kingdom  Fast  \n",
       "2      2010-12-01 08:26:00       2.75     17850.0  United Kingdom  Fast  \n",
       "3      2010-12-01 08:26:00       3.39     17850.0  United Kingdom  Fast  \n",
       "4      2010-12-01 08:26:00       3.39     17850.0  United Kingdom  Fast  \n",
       "...                    ...        ...         ...             ...   ...  \n",
       "404916 2011-12-09 12:50:00       0.85     12680.0          France  Slow  \n",
       "404917 2011-12-09 12:50:00       2.10     12680.0          France  Fast  \n",
       "404918 2011-12-09 12:50:00       4.15     12680.0          France  Fast  \n",
       "404919 2011-12-09 12:50:00       4.15     12680.0          France  Fast  \n",
       "404920 2011-12-09 12:50:00       4.95     12680.0          France  Fast  \n",
       "\n",
       "[404921 rows x 9 columns]"
      ]
     },
     "execution_count": 20,
     "metadata": {},
     "output_type": "execute_result"
    }
   ],
   "source": [
    "fsn_mapping = product_metrics[['StockCode', 'FSN_Segment']].rename(columns={'FSN_Segment': 'FSN'})\n",
    "retail = retail.merge(fsn_mapping, on='StockCode', how='left')\n",
    "retail"
   ]
  },
  {
   "cell_type": "code",
   "execution_count": 21,
   "id": "bc3c496e",
   "metadata": {},
   "outputs": [
    {
     "name": "stderr",
     "output_type": "stream",
     "text": [
      "C:\\Users\\abolf\\AppData\\Local\\Temp\\ipykernel_17104\\3937659088.py:2: FutureWarning: \n",
      "\n",
      "Passing `palette` without assigning `hue` is deprecated and will be removed in v0.14.0. Assign the `x` variable to `hue` and set `legend=False` for the same effect.\n",
      "\n",
      "  sns.countplot(x='FSN_Segment', data=product_metrics, palette='viridis')\n"
     ]
    },
    {
     "data": {
      "image/png": "[encoded data removed]",
      "text/plain": [
       "<Figure size 800x600 with 1 Axes>"
      ]
     },
     "metadata": {},
     "output_type": "display_data"
    }
   ],
   "source": [
    "plt.figure(figsize=(8, 6))\n",
    "sns.countplot(x='FSN_Segment', data=product_metrics, palette='viridis')\n",
    "plt.title('Distribution of Products in FSN Segments')\n",
    "plt.xlabel('FSN Category')\n",
    "plt.ylabel('Number of Products')\n",
    "plt.show()"
   ]
  },
  {
   "cell_type": "code",
   "execution_count": 22,
   "id": "c36faa08",
   "metadata": {},
   "outputs": [
    {
     "data": {
      "image/png": "[encoded data removed]",
      "text/plain": [
       "<Figure size 800x600 with 1 Axes>"
      ]
     },
     "metadata": {},
     "output_type": "display_data"
    }
   ],
   "source": [
    "counts = product_metrics['FSN_Segment'].value_counts()\n",
    "percentages = counts / counts.sum() * 100\n",
    "\n",
    "plt.figure(figsize=(8, 6))\n",
    "percentages.plot(kind='pie', autopct='%1.1f%%', colors=['skyblue', 'orange', 'green'])\n",
    "plt.title('Percentage of Each FSN Category in Total Products')\n",
    "plt.ylabel('')\n",
    "plt.show()"
   ]
  }
 ],
 "metadata": {
  "kernelspec": {
   "display_name": "Python 3",
   "language": "python",
   "name": "python3"
  },
  "language_info": {
   "codemirror_mode": {
    "name": "ipython",
    "version": 3
   },
   "file_extension": ".py",
   "mimetype": "text/x-python",
   "name": "python",
   "nbconvert_exporter": "python",
   "pygments_lexer": "ipython3",
   "version": "3.13.2"
  }
 },
 "nbformat": 4,
 "nbformat_minor": 5
}
